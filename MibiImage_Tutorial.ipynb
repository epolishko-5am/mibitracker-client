{
 "cells": [
  {
   "cell_type": "code",
   "execution_count": 1,
   "metadata": {},
   "outputs": [],
   "source": [
    "import os\n",
    "\n",
    "import numpy as np\n",
    "from skimage.filters import median\n",
    "\n",
    "from mibidata.mibi_image import MibiImage\n",
    "from mibidata import tiff"
   ]
  },
  {
   "cell_type": "markdown",
   "metadata": {},
   "source": [
    "<h2>Introduction</h2>\n",
    "\n",
    "This notebook provides examples for dealing with MIBI data in the form of a MibiImage instance, which is provided in the [mibitracker-client](https://github.com/ionpath/mibitracker-client/mibidata) library, in the `mibidata` module. Complete documetnation for the [mibidata](https://ionpath.github.io/mibitracker-client/mibidata.html#module-mibidata) module is available."
   ]
  },
  {
   "cell_type": "markdown",
   "metadata": {},
   "source": [
    "<h2>Creating a MibiImage Instance</h2>\n",
    "\n",
    "An instance MibiImage can be created with as little as a numpy array of count data and a list of channel names. Additional args in the constructor allow you to add relevant metadata, including run name and point name. For a full list of metadata args, see the [class documentation](https://ionpath.github.io/mibitracker-client/mibidata.html#module-mibidata.mibi_image). Note that channels can be specified as either a list of integer masses, a list of string channel names, or a list of tuples of (integer mass, string channel name)."
   ]
  },
  {
   "cell_type": "code",
   "execution_count": 2,
   "metadata": {},
   "outputs": [
    {
     "data": {
      "text/plain": [
       "<mibidata.mibi_image.MibiImage at 0x152052bc358>"
      ]
     },
     "execution_count": 2,
     "metadata": {},
     "output_type": "execute_result"
    }
   ],
   "source": [
    "# Create some random channel data. MIBI data is typically 16-bit uint, so\n",
    "# limit range to (0, 65535). Image size here is 128 x 128 pixels with 3\n",
    "# channels.\n",
    "random_channel_data = np.random.randint(0, 65535, (128, 128, 3), dtype=np.uint16)\n",
    "channels = ['Channel 1', 'Channel 2', 'Channel 3']\n",
    "random_mibi_image = MibiImage(\n",
    "    random_channel_data, channels,\n",
    "    run='Random Run', point_name='Random Point Name')\n",
    "random_mibi_image"
   ]
  },
  {
   "cell_type": "markdown",
   "metadata": {},
   "source": [
    "An even easier way to import data into a MibiImage instance is to use the [mibidata.tiff.read](https://ionpath.github.io/mibitracker-client/mibidata.html#module-mibidata.tiff) method. `tiff.read` reads in a Multiplexed MIBITIFF file that has been saved in the MIBITIFF format, which is the output of the IONpath TIFF Generator. In this case, all of the metadata is already saved with the image, and so the filename is the only parameter necessary."
   ]
  },
  {
   "cell_type": "code",
   "execution_count": 3,
   "metadata": {},
   "outputs": [
    {
     "data": {
      "text/plain": [
       "<mibidata.mibi_image.MibiImage at 0x152052d7630>"
      ]
     },
     "execution_count": 3,
     "metadata": {},
     "output_type": "execute_result"
    }
   ],
   "source": [
    "image = tiff.read('/path/to/mibi_tiff.tiff')\n",
    "image"
   ]
  },
  {
   "cell_type": "markdown",
   "metadata": {},
   "source": [
    "<h2>MibiImage Slicing</h2>\n",
    "\n",
    "Once loaded or created, the MibiImage class provides conenience methods for slicing, copying, and saving MIBI data. For example, we can select out certain channels of interest from the entire multiplexed image. An image can be sliced using a list of channel names either with the `slice_data` method or indexing."
   ]
  },
  {
   "cell_type": "code",
   "execution_count": 4,
   "metadata": {},
   "outputs": [
    {
     "data": {
      "text/plain": [
       "((166, 'beta-tubulin'),\n",
       " (144, 'CD11c'),\n",
       " (164, 'CD20'),\n",
       " (159, 'CD3'),\n",
       " (174, 'CD31'),\n",
       " (143, 'CD4'),\n",
       " (175, 'CD45'),\n",
       " (150, 'CD56'),\n",
       " (156, 'CD68'),\n",
       " (158, 'CD8'),\n",
       " (89, 'dsDNA'),\n",
       " (146, 'FOXP3'),\n",
       " (160, 'HLA class 1 A, B, and C'),\n",
       " (176, 'Na-K-ATPase alpha1'),\n",
       " (149, 'PD-L1'),\n",
       " (151, 'Vimentin'))"
      ]
     },
     "execution_count": 4,
     "metadata": {},
     "output_type": "execute_result"
    }
   ],
   "source": [
    "image.channels"
   ]
  },
  {
   "cell_type": "code",
   "execution_count": 5,
   "metadata": {},
   "outputs": [
    {
     "data": {
      "text/plain": [
       "(1024, 1024, 4)"
      ]
     },
     "execution_count": 5,
     "metadata": {},
     "output_type": "execute_result"
    }
   ],
   "source": [
    "channels_of_interest = image.slice_data(['dsDNA', 'beta-tubulin', 'HLA class 1 A, B, and C', 'Na-K-ATPase alpha1'])\n",
    "np.shape(channels_of_interest)"
   ]
  },
  {
   "cell_type": "code",
   "execution_count": 6,
   "metadata": {},
   "outputs": [
    {
     "data": {
      "text/plain": [
       "(1024, 1024, 4)"
      ]
     },
     "execution_count": 6,
     "metadata": {},
     "output_type": "execute_result"
    }
   ],
   "source": [
    "channels_of_interest = image['dsDNA', 'beta-tubulin', 'HLA class 1 A, B, and C', 'Na-K-ATPase alpha1']\n",
    "np.shape(channels_of_interest)"
   ]
  },
  {
   "cell_type": "markdown",
   "metadata": {},
   "source": [
    "If the channel masses are also provided, the masses can be used to slice the image as well."
   ]
  },
  {
   "cell_type": "code",
   "execution_count": 7,
   "metadata": {},
   "outputs": [
    {
     "data": {
      "text/plain": [
       "(1024, 1024, 4)"
      ]
     },
     "execution_count": 7,
     "metadata": {},
     "output_type": "execute_result"
    }
   ],
   "source": [
    "channels_of_interest = image[89, 166, 160, 176]\n",
    "np.shape(channels_of_interest)"
   ]
  },
  {
   "cell_type": "markdown",
   "metadata": {},
   "source": [
    "<h2>Image Manipluation</h2>\n",
    "\n",
    "A deep copy of MibiImage instances can be made using the `copy` method."
   ]
  },
  {
   "cell_type": "code",
   "execution_count": 8,
   "metadata": {},
   "outputs": [
    {
     "data": {
      "text/plain": [
       "((166, 'beta-tubulin'),\n",
       " (144, 'CD11c'),\n",
       " (164, 'CD20'),\n",
       " (159, 'CD3'),\n",
       " (174, 'CD31'),\n",
       " (143, 'CD4'),\n",
       " (175, 'CD45'),\n",
       " (150, 'CD56'),\n",
       " (156, 'CD68'),\n",
       " (158, 'CD8'),\n",
       " (89, 'dsDNA'),\n",
       " (146, 'FOXP3'),\n",
       " (160, 'HLA class 1 A, B, and C'),\n",
       " (176, 'Na-K-ATPase alpha1'),\n",
       " (149, 'PD-L1'),\n",
       " (151, 'Vimentin'))"
      ]
     },
     "execution_count": 8,
     "metadata": {},
     "output_type": "execute_result"
    }
   ],
   "source": [
    "image_copy = image.copy()\n",
    "image_copy.channels"
   ]
  },
  {
   "cell_type": "markdown",
   "metadata": {},
   "source": [
    "To replace channel data in the image, you will need to access the `.data` property and know the index of the channel in the data array."
   ]
  },
  {
   "cell_type": "code",
   "execution_count": 9,
   "metadata": {},
   "outputs": [],
   "source": [
    "for channel in image_copy.channels:\n",
    "    index = image_copy.channel_inds(channel)\n",
    "    smoothed = median(image_copy[channel])\n",
    "    image_copy.data[:, :, index] = smoothed"
   ]
  },
  {
   "cell_type": "markdown",
   "metadata": {},
   "source": [
    "<h2>Saving MibiImages</h2>\n",
    "\n",
    "A MibiImage object can be saved as either a multiplexed MIBITIFF or a series of individual channel PNGs."
   ]
  },
  {
   "cell_type": "code",
   "execution_count": 10,
   "metadata": {},
   "outputs": [],
   "source": [
    "tiff.write('C:/Users/jayta/Desktop/smoothed.tiff', image_copy)"
   ]
  },
  {
   "cell_type": "markdown",
   "metadata": {},
   "source": [
    "When saving a series of channel PNGs, the folder to save to must be specified. The filenames of each PNG will be the channel name as it is in the MibiImage object. If the channels are (mass, label) tuples, the filenames will be just the label."
   ]
  },
  {
   "cell_type": "code",
   "execution_count": 11,
   "metadata": {},
   "outputs": [
    {
     "data": {
      "text/plain": [
       "['beta-tubulin.png',\n",
       " 'CD11c.png',\n",
       " 'CD20.png',\n",
       " 'CD3.png',\n",
       " 'CD31.png',\n",
       " 'CD4.png',\n",
       " 'CD45.png',\n",
       " 'CD56.png',\n",
       " 'CD68.png',\n",
       " 'CD8.png',\n",
       " 'dsDNA.png',\n",
       " 'FOXP3.png',\n",
       " 'HLA class 1 A, B, and C.png',\n",
       " 'Na-K-ATPase alpha1.png',\n",
       " 'PD-L1.png',\n",
       " 'Vimentin.png']"
      ]
     },
     "execution_count": 11,
     "metadata": {},
     "output_type": "execute_result"
    }
   ],
   "source": [
    "image_copy.export_pngs('/path/to/folder')\n",
    "outputs = [png_name for png_name in os.path.listdir('/path/to/folder/') if os.path.splitext(png_name)[-1] == '.png']\n",
    "outputs"
   ]
  },
  {
   "cell_type": "markdown",
   "metadata": {},
   "source": [
    "The exported TIFF or PNGs can then be uploaded to MIBItracker using the `mibitracker` module. See the Python section of the [MIBItracker Tutorial](https://github.com/ionpath/mibitracker-client/blob/master/MIBItracker_API_Tutorial.ipynb) for more information on uploading TIFF or PNG files."
   ]
  },
  {
   "cell_type": "code",
   "execution_count": null,
   "metadata": {},
   "outputs": [],
   "source": []
  }
 ],
 "metadata": {
  "kernelspec": {
   "display_name": "Python 3",
   "language": "python",
   "name": "python3"
  },
  "language_info": {
   "codemirror_mode": {
    "name": "ipython",
    "version": 3
   },
   "file_extension": ".py",
   "mimetype": "text/x-python",
   "name": "python",
   "nbconvert_exporter": "python",
   "pygments_lexer": "ipython3",
   "version": "3.6.3"
  }
 },
 "nbformat": 4,
 "nbformat_minor": 2
}
